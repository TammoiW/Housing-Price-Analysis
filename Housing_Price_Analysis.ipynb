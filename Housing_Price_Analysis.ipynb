{
 "cells": [
  {
   "cell_type": "code",
   "execution_count": 45,
   "id": "ff13b772-e1b6-4b5e-972a-a802eedc9a50",
   "metadata": {},
   "outputs": [],
   "source": [
    "#=======================================================================\n",
    "# EXPLORATORY DATA ANALYSIS -  PARISIAN HOUSING\n",
    "#======================================================================="
   ]
  },
  {
   "cell_type": "code",
   "execution_count": 46,
   "id": "90b38aaf-32b1-4d0c-aa9d-c1e4516af346",
   "metadata": {},
   "outputs": [],
   "source": [
    "# ------------SECTION 1:DATA IMPORT & INITIAL CHECKS--------------------"
   ]
  },
  {
   "cell_type": "code",
   "execution_count": 47,
   "id": "ad8d3dca-d7fd-4bd9-b3a9-0431d894a66a",
   "metadata": {},
   "outputs": [],
   "source": [
    "#Importing the necessary libraries needed for the EDA. NumPy was used for numerical data manipulation in Python, while Pandas was employed \n",
    "#for handling structured or tabular data, such as our dataset.Additionally, Pandas facilitated data preprocessing, including managing missing \n",
    "#values. For data visualization, Matplotlib and Seaborn were utilized to generate graphical representations,aiding in the exploration and \n",
    "#analysis of the dataset. Sklearn is a machine learning module that is built into Python that will be used to create the models that will idetify \n",
    "#trends in the data\n",
    "import pandas as pd\n",
    "from scipy import stats\n",
    "import statsmodels.api as sm\n",
    "import seaborn as sns \n",
    "import matplotlib.pyplot as plt\n",
    "from sklearn.linear_model import LinearRegression, LogisticRegression\n",
    "from sklearn.model_selection import train_test_split\n",
    "from sklearn.metrics import r2_score\n",
    "import matplotlib.pyplot as plt\n",
    "import matplotlib.ticker as ticker\n",
    "\n",
    "\n"
   ]
  },
  {
   "cell_type": "code",
   "execution_count": 48,
   "id": "6f401d53-1c32-4b65-a311-2aca809d3c25",
   "metadata": {},
   "outputs": [],
   "source": [
    "#importing the dataset into a pandas DataFrame called 'Housing_Data'\n",
    "Housing_Data= pd.read_excel(\"Paris_housing_Data_Set.xlsx\", engine=\"openpyxl\")\n"
   ]
  },
  {
   "cell_type": "code",
   "execution_count": 49,
   "id": "22057c7f-029f-4f40-bd31-687365217677",
   "metadata": {},
   "outputs": [
    {
     "data": {
      "text/plain": [
       "(19999, 11)"
      ]
     },
     "execution_count": 49,
     "metadata": {},
     "output_type": "execute_result"
    }
   ],
   "source": [
    "#Checking the initial shape of the data to get an understanding of the magnitude of the data that we are working with.\n",
    "Housing_Data.shape"
   ]
  },
  {
   "cell_type": "code",
   "execution_count": 50,
   "id": "9095e3fe-7e88-4f6e-975a-eb572ee6d939",
   "metadata": {
    "scrolled": true
   },
   "outputs": [
    {
     "data": {
      "text/html": [
       "<div>\n",
       "<style scoped>\n",
       "    .dataframe tbody tr th:only-of-type {\n",
       "        vertical-align: middle;\n",
       "    }\n",
       "\n",
       "    .dataframe tbody tr th {\n",
       "        vertical-align: top;\n",
       "    }\n",
       "\n",
       "    .dataframe thead th {\n",
       "        text-align: right;\n",
       "    }\n",
       "</style>\n",
       "<table border=\"1\" class=\"dataframe\">\n",
       "  <thead>\n",
       "    <tr style=\"text-align: right;\">\n",
       "      <th></th>\n",
       "      <th>price</th>\n",
       "      <th>bedrooms</th>\n",
       "      <th>bathrooms</th>\n",
       "      <th>sqft_living</th>\n",
       "      <th>sqft_total</th>\n",
       "      <th>floors</th>\n",
       "      <th>condition</th>\n",
       "      <th>grade</th>\n",
       "      <th>built</th>\n",
       "      <th>renovated</th>\n",
       "      <th>living_area_sqft</th>\n",
       "    </tr>\n",
       "  </thead>\n",
       "  <tbody>\n",
       "    <tr>\n",
       "      <th>0</th>\n",
       "      <td>221900.0</td>\n",
       "      <td>3.0</td>\n",
       "      <td>1.0</td>\n",
       "      <td>1180.0</td>\n",
       "      <td>5650.0</td>\n",
       "      <td>1.0</td>\n",
       "      <td>3.0</td>\n",
       "      <td>7</td>\n",
       "      <td>1955.0</td>\n",
       "      <td>0</td>\n",
       "      <td>1340.0</td>\n",
       "    </tr>\n",
       "    <tr>\n",
       "      <th>1</th>\n",
       "      <td>538000.0</td>\n",
       "      <td>3.0</td>\n",
       "      <td>NaN</td>\n",
       "      <td>2570.0</td>\n",
       "      <td>7242.0</td>\n",
       "      <td>2.0</td>\n",
       "      <td>3.0</td>\n",
       "      <td>7</td>\n",
       "      <td>1951.0</td>\n",
       "      <td>1991</td>\n",
       "      <td>1690.0</td>\n",
       "    </tr>\n",
       "    <tr>\n",
       "      <th>2</th>\n",
       "      <td>180000.0</td>\n",
       "      <td>2.0</td>\n",
       "      <td>1.0</td>\n",
       "      <td>770.0</td>\n",
       "      <td>10000.0</td>\n",
       "      <td>1.0</td>\n",
       "      <td>3.0</td>\n",
       "      <td>6</td>\n",
       "      <td>1933.0</td>\n",
       "      <td>0</td>\n",
       "      <td>2720.0</td>\n",
       "    </tr>\n",
       "    <tr>\n",
       "      <th>3</th>\n",
       "      <td>604000.0</td>\n",
       "      <td>4.0</td>\n",
       "      <td>3.0</td>\n",
       "      <td>1960.0</td>\n",
       "      <td>5000.0</td>\n",
       "      <td>1.0</td>\n",
       "      <td>5.0</td>\n",
       "      <td>7</td>\n",
       "      <td>1965.0</td>\n",
       "      <td>0</td>\n",
       "      <td>1360.0</td>\n",
       "    </tr>\n",
       "    <tr>\n",
       "      <th>4</th>\n",
       "      <td>510000.0</td>\n",
       "      <td>3.0</td>\n",
       "      <td>2.0</td>\n",
       "      <td>1680.0</td>\n",
       "      <td>8080.0</td>\n",
       "      <td>1.0</td>\n",
       "      <td>3.0</td>\n",
       "      <td>8</td>\n",
       "      <td>1987.0</td>\n",
       "      <td>0</td>\n",
       "      <td>1800.0</td>\n",
       "    </tr>\n",
       "  </tbody>\n",
       "</table>\n",
       "</div>"
      ],
      "text/plain": [
       "      price  bedrooms  bathrooms  sqft_living  sqft_total  floors  condition  \\\n",
       "0  221900.0       3.0        1.0       1180.0      5650.0     1.0        3.0   \n",
       "1  538000.0       3.0        NaN       2570.0      7242.0     2.0        3.0   \n",
       "2  180000.0       2.0        1.0        770.0     10000.0     1.0        3.0   \n",
       "3  604000.0       4.0        3.0       1960.0      5000.0     1.0        5.0   \n",
       "4  510000.0       3.0        2.0       1680.0      8080.0     1.0        3.0   \n",
       "\n",
       "   grade   built  renovated  living_area_sqft  \n",
       "0      7  1955.0          0            1340.0  \n",
       "1      7  1951.0       1991            1690.0  \n",
       "2      6  1933.0          0            2720.0  \n",
       "3      7  1965.0          0            1360.0  \n",
       "4      8  1987.0          0            1800.0  "
      ]
     },
     "execution_count": 50,
     "metadata": {},
     "output_type": "execute_result"
    }
   ],
   "source": [
    "#Checking the first five rows of the data to get an idea of what the data looks like. From this peek of the data,errors were identified that will be \n",
    "# addressed in the pre-processing stage\n",
    "Housing_Data.head()"
   ]
  },
  {
   "cell_type": "code",
   "execution_count": 51,
   "id": "0918c113-3f66-46f9-9012-fcbfeb808cef",
   "metadata": {},
   "outputs": [
    {
     "data": {
      "text/plain": [
       "price               float64\n",
       "bedrooms            float64\n",
       "bathrooms           float64\n",
       "sqft_living         float64\n",
       "sqft_total          float64\n",
       "floors              float64\n",
       "condition           float64\n",
       "grade                 int64\n",
       "built               float64\n",
       "renovated             int64\n",
       "living_area_sqft    float64\n",
       "dtype: object"
      ]
     },
     "execution_count": 51,
     "metadata": {},
     "output_type": "execute_result"
    }
   ],
   "source": [
    "#Checking the data types of the variables to ensure that all variables are assigned the correct data type. Variables such as built, should be integers\n",
    "#and not floats to accurately reflect the nature of the data as years cannot be fractional.\n",
    "Housing_Data.dtypes"
   ]
  },
  {
   "cell_type": "code",
   "execution_count": 52,
   "id": "254180e3-2dc9-422c-96bc-abcb6c1b2f9c",
   "metadata": {},
   "outputs": [
    {
     "data": {
      "text/plain": [
       "price                4\n",
       "bedrooms            15\n",
       "bathrooms           11\n",
       "sqft_living          1\n",
       "sqft_total           5\n",
       "floors               0\n",
       "condition            1\n",
       "grade                0\n",
       "built                1\n",
       "renovated            0\n",
       "living_area_sqft     6\n",
       "dtype: int64"
      ]
     },
     "execution_count": 52,
     "metadata": {},
     "output_type": "execute_result"
    }
   ],
   "source": [
    "#Checking for missing values within the dataframe\n",
    "Housing_Data.isnull().sum()\n"
   ]
  },
  {
   "cell_type": "code",
   "execution_count": 53,
   "id": "e88e8e65-d813-48df-be93-87c00e09bb07",
   "metadata": {},
   "outputs": [],
   "source": [
    "# ------------SECTION 2:INITIAL BASIC STATISTICAL TESTS--------------------"
   ]
  },
  {
   "cell_type": "code",
   "execution_count": 54,
   "id": "c43a7c10-cc40-405e-ab43-3b09f69ff1bc",
   "metadata": {},
   "outputs": [
    {
     "data": {
      "text/html": [
       "<div>\n",
       "<style scoped>\n",
       "    .dataframe tbody tr th:only-of-type {\n",
       "        vertical-align: middle;\n",
       "    }\n",
       "\n",
       "    .dataframe tbody tr th {\n",
       "        vertical-align: top;\n",
       "    }\n",
       "\n",
       "    .dataframe thead th {\n",
       "        text-align: right;\n",
       "    }\n",
       "</style>\n",
       "<table border=\"1\" class=\"dataframe\">\n",
       "  <thead>\n",
       "    <tr style=\"text-align: right;\">\n",
       "      <th></th>\n",
       "      <th>price</th>\n",
       "      <th>bedrooms</th>\n",
       "      <th>bathrooms</th>\n",
       "      <th>sqft_living</th>\n",
       "      <th>sqft_total</th>\n",
       "      <th>floors</th>\n",
       "      <th>condition</th>\n",
       "      <th>grade</th>\n",
       "      <th>built</th>\n",
       "      <th>renovated</th>\n",
       "      <th>living_area_sqft</th>\n",
       "    </tr>\n",
       "  </thead>\n",
       "  <tbody>\n",
       "    <tr>\n",
       "      <th>count</th>\n",
       "      <td>19995.00</td>\n",
       "      <td>19984.00</td>\n",
       "      <td>19988.00</td>\n",
       "      <td>19998.00</td>\n",
       "      <td>19994.00</td>\n",
       "      <td>19999.00</td>\n",
       "      <td>19998.00</td>\n",
       "      <td>19999.00</td>\n",
       "      <td>19998.00</td>\n",
       "      <td>19999.00</td>\n",
       "      <td>19993.0</td>\n",
       "    </tr>\n",
       "    <tr>\n",
       "      <th>mean</th>\n",
       "      <td>535394.40</td>\n",
       "      <td>3.37</td>\n",
       "      <td>2.07</td>\n",
       "      <td>2057.94</td>\n",
       "      <td>15606.96</td>\n",
       "      <td>1.44</td>\n",
       "      <td>3.44</td>\n",
       "      <td>7.61</td>\n",
       "      <td>1967.95</td>\n",
       "      <td>90.81</td>\n",
       "      <td>1974.2</td>\n",
       "    </tr>\n",
       "    <tr>\n",
       "      <th>std</th>\n",
       "      <td>365921.66</td>\n",
       "      <td>0.93</td>\n",
       "      <td>0.76</td>\n",
       "      <td>905.64</td>\n",
       "      <td>41775.76</td>\n",
       "      <td>0.52</td>\n",
       "      <td>0.67</td>\n",
       "      <td>1.17</td>\n",
       "      <td>28.32</td>\n",
       "      <td>415.95</td>\n",
       "      <td>675.2</td>\n",
       "    </tr>\n",
       "    <tr>\n",
       "      <th>min</th>\n",
       "      <td>75000.00</td>\n",
       "      <td>1.00</td>\n",
       "      <td>0.50</td>\n",
       "      <td>290.00</td>\n",
       "      <td>520.00</td>\n",
       "      <td>1.00</td>\n",
       "      <td>1.00</td>\n",
       "      <td>1.00</td>\n",
       "      <td>1900.00</td>\n",
       "      <td>0.00</td>\n",
       "      <td>399.0</td>\n",
       "    </tr>\n",
       "    <tr>\n",
       "      <th>25%</th>\n",
       "      <td>317000.00</td>\n",
       "      <td>3.00</td>\n",
       "      <td>1.50</td>\n",
       "      <td>1420.00</td>\n",
       "      <td>5350.00</td>\n",
       "      <td>1.00</td>\n",
       "      <td>3.00</td>\n",
       "      <td>7.00</td>\n",
       "      <td>1950.00</td>\n",
       "      <td>0.00</td>\n",
       "      <td>1490.0</td>\n",
       "    </tr>\n",
       "    <tr>\n",
       "      <th>50%</th>\n",
       "      <td>449900.00</td>\n",
       "      <td>3.00</td>\n",
       "      <td>2.00</td>\n",
       "      <td>1900.00</td>\n",
       "      <td>7817.50</td>\n",
       "      <td>1.00</td>\n",
       "      <td>3.00</td>\n",
       "      <td>7.00</td>\n",
       "      <td>1969.00</td>\n",
       "      <td>0.00</td>\n",
       "      <td>1830.0</td>\n",
       "    </tr>\n",
       "    <tr>\n",
       "      <th>75%</th>\n",
       "      <td>640000.00</td>\n",
       "      <td>4.00</td>\n",
       "      <td>2.50</td>\n",
       "      <td>2510.00</td>\n",
       "      <td>11000.00</td>\n",
       "      <td>2.00</td>\n",
       "      <td>4.00</td>\n",
       "      <td>8.00</td>\n",
       "      <td>1991.00</td>\n",
       "      <td>0.00</td>\n",
       "      <td>2336.0</td>\n",
       "    </tr>\n",
       "    <tr>\n",
       "      <th>max</th>\n",
       "      <td>7700000.00</td>\n",
       "      <td>33.00</td>\n",
       "      <td>8.00</td>\n",
       "      <td>13540.00</td>\n",
       "      <td>1651359.00</td>\n",
       "      <td>3.50</td>\n",
       "      <td>5.00</td>\n",
       "      <td>13.00</td>\n",
       "      <td>2015.00</td>\n",
       "      <td>2015.00</td>\n",
       "      <td>6210.0</td>\n",
       "    </tr>\n",
       "  </tbody>\n",
       "</table>\n",
       "</div>"
      ],
      "text/plain": [
       "            price  bedrooms  bathrooms  sqft_living  sqft_total    floors  \\\n",
       "count    19995.00  19984.00   19988.00     19998.00    19994.00  19999.00   \n",
       "mean    535394.40      3.37       2.07      2057.94    15606.96      1.44   \n",
       "std     365921.66      0.93       0.76       905.64    41775.76      0.52   \n",
       "min      75000.00      1.00       0.50       290.00      520.00      1.00   \n",
       "25%     317000.00      3.00       1.50      1420.00     5350.00      1.00   \n",
       "50%     449900.00      3.00       2.00      1900.00     7817.50      1.00   \n",
       "75%     640000.00      4.00       2.50      2510.00    11000.00      2.00   \n",
       "max    7700000.00     33.00       8.00     13540.00  1651359.00      3.50   \n",
       "\n",
       "       condition     grade     built  renovated  living_area_sqft  \n",
       "count   19998.00  19999.00  19998.00   19999.00           19993.0  \n",
       "mean        3.44      7.61   1967.95      90.81            1974.2  \n",
       "std         0.67      1.17     28.32     415.95             675.2  \n",
       "min         1.00      1.00   1900.00       0.00             399.0  \n",
       "25%         3.00      7.00   1950.00       0.00            1490.0  \n",
       "50%         3.00      7.00   1969.00       0.00            1830.0  \n",
       "75%         4.00      8.00   1991.00       0.00            2336.0  \n",
       "max         5.00     13.00   2015.00    2015.00            6210.0  "
      ]
     },
     "execution_count": 54,
     "metadata": {},
     "output_type": "execute_result"
    }
   ],
   "source": [
    "#performing a basic statistical test on the dataset to get some insights into the data. Based on this test, we can see that the houses in our dataset \n",
    "#typically have 3 bedrooms but ranges from 1 to 33 which is an outlier. The 33-bedroom property, I believe, points to the existence of luxury properties in Paris. \n",
    "#I’ve chosen not to remove this datapoint because it represents real work scenarios because Paris does have luxury properties. So, while it may skew \n",
    "#some statistics such as the mean, it provides real word insight into the luxury market in Paris.\n",
    "#The houses have between 1.5 to 2.5 bathrooms. Also, most properties have 1 floor but a few have 3.5 floors.\n",
    "#The column sqft_living closely resembles living_area_sqft which raises the question about if the data is redundant.\n",
    "Housing_Data.describe().round(2)"
   ]
  },
  {
   "cell_type": "code",
   "execution_count": 55,
   "id": "62ce61fd-4288-4816-ba3a-2b17d77db0c9",
   "metadata": {},
   "outputs": [
    {
     "data": {
      "text/html": [
       "<div>\n",
       "<style scoped>\n",
       "    .dataframe tbody tr th:only-of-type {\n",
       "        vertical-align: middle;\n",
       "    }\n",
       "\n",
       "    .dataframe tbody tr th {\n",
       "        vertical-align: top;\n",
       "    }\n",
       "\n",
       "    .dataframe thead th {\n",
       "        text-align: right;\n",
       "    }\n",
       "</style>\n",
       "<table border=\"1\" class=\"dataframe\">\n",
       "  <thead>\n",
       "    <tr style=\"text-align: right;\">\n",
       "      <th></th>\n",
       "      <th>price</th>\n",
       "      <th>bedrooms</th>\n",
       "      <th>bathrooms</th>\n",
       "      <th>sqft_living</th>\n",
       "      <th>sqft_total</th>\n",
       "      <th>floors</th>\n",
       "      <th>condition</th>\n",
       "      <th>grade</th>\n",
       "      <th>built</th>\n",
       "      <th>renovated</th>\n",
       "      <th>living_area_sqft</th>\n",
       "    </tr>\n",
       "  </thead>\n",
       "  <tbody>\n",
       "    <tr>\n",
       "      <th>price</th>\n",
       "      <td>1.000000</td>\n",
       "      <td>0.302715</td>\n",
       "      <td>0.524730</td>\n",
       "      <td>0.701247</td>\n",
       "      <td>0.085870</td>\n",
       "      <td>0.278690</td>\n",
       "      <td>0.047269</td>\n",
       "      <td>0.665259</td>\n",
       "      <td>0.040088</td>\n",
       "      <td>0.135701</td>\n",
       "      <td>0.595678</td>\n",
       "    </tr>\n",
       "    <tr>\n",
       "      <th>bedrooms</th>\n",
       "      <td>0.302715</td>\n",
       "      <td>1.000000</td>\n",
       "      <td>0.515724</td>\n",
       "      <td>0.568133</td>\n",
       "      <td>0.030603</td>\n",
       "      <td>0.204928</td>\n",
       "      <td>0.033419</td>\n",
       "      <td>0.354848</td>\n",
       "      <td>0.159865</td>\n",
       "      <td>0.021052</td>\n",
       "      <td>0.376581</td>\n",
       "    </tr>\n",
       "    <tr>\n",
       "      <th>bathrooms</th>\n",
       "      <td>0.524730</td>\n",
       "      <td>0.515724</td>\n",
       "      <td>1.000000</td>\n",
       "      <td>0.761640</td>\n",
       "      <td>0.092467</td>\n",
       "      <td>0.505132</td>\n",
       "      <td>-0.096782</td>\n",
       "      <td>0.661418</td>\n",
       "      <td>0.488162</td>\n",
       "      <td>0.066027</td>\n",
       "      <td>0.576770</td>\n",
       "    </tr>\n",
       "    <tr>\n",
       "      <th>sqft_living</th>\n",
       "      <td>0.701247</td>\n",
       "      <td>0.568133</td>\n",
       "      <td>0.761640</td>\n",
       "      <td>1.000000</td>\n",
       "      <td>0.171361</td>\n",
       "      <td>0.391976</td>\n",
       "      <td>-0.046014</td>\n",
       "      <td>0.766483</td>\n",
       "      <td>0.321674</td>\n",
       "      <td>0.064575</td>\n",
       "      <td>0.753186</td>\n",
       "    </tr>\n",
       "    <tr>\n",
       "      <th>sqft_total</th>\n",
       "      <td>0.085870</td>\n",
       "      <td>0.030603</td>\n",
       "      <td>0.092467</td>\n",
       "      <td>0.171361</td>\n",
       "      <td>1.000000</td>\n",
       "      <td>0.015878</td>\n",
       "      <td>-0.017107</td>\n",
       "      <td>0.117585</td>\n",
       "      <td>0.076945</td>\n",
       "      <td>0.005526</td>\n",
       "      <td>0.151518</td>\n",
       "    </tr>\n",
       "    <tr>\n",
       "      <th>floors</th>\n",
       "      <td>0.278690</td>\n",
       "      <td>0.204928</td>\n",
       "      <td>0.505132</td>\n",
       "      <td>0.391976</td>\n",
       "      <td>0.015878</td>\n",
       "      <td>1.000000</td>\n",
       "      <td>-0.227628</td>\n",
       "      <td>0.464452</td>\n",
       "      <td>0.431733</td>\n",
       "      <td>0.027793</td>\n",
       "      <td>0.318028</td>\n",
       "    </tr>\n",
       "    <tr>\n",
       "      <th>condition</th>\n",
       "      <td>0.047269</td>\n",
       "      <td>0.033419</td>\n",
       "      <td>-0.096782</td>\n",
       "      <td>-0.046014</td>\n",
       "      <td>-0.017107</td>\n",
       "      <td>-0.227628</td>\n",
       "      <td>1.000000</td>\n",
       "      <td>-0.123643</td>\n",
       "      <td>-0.323934</td>\n",
       "      <td>-0.071889</td>\n",
       "      <td>-0.086868</td>\n",
       "    </tr>\n",
       "    <tr>\n",
       "      <th>grade</th>\n",
       "      <td>0.665259</td>\n",
       "      <td>0.354848</td>\n",
       "      <td>0.661418</td>\n",
       "      <td>0.766483</td>\n",
       "      <td>0.117585</td>\n",
       "      <td>0.464452</td>\n",
       "      <td>-0.123643</td>\n",
       "      <td>1.000000</td>\n",
       "      <td>0.435028</td>\n",
       "      <td>0.024937</td>\n",
       "      <td>0.729372</td>\n",
       "    </tr>\n",
       "    <tr>\n",
       "      <th>built</th>\n",
       "      <td>0.040088</td>\n",
       "      <td>0.159865</td>\n",
       "      <td>0.488162</td>\n",
       "      <td>0.321674</td>\n",
       "      <td>0.076945</td>\n",
       "      <td>0.431733</td>\n",
       "      <td>-0.323934</td>\n",
       "      <td>0.435028</td>\n",
       "      <td>1.000000</td>\n",
       "      <td>-0.219860</td>\n",
       "      <td>0.341028</td>\n",
       "    </tr>\n",
       "    <tr>\n",
       "      <th>renovated</th>\n",
       "      <td>0.135701</td>\n",
       "      <td>0.021052</td>\n",
       "      <td>0.066027</td>\n",
       "      <td>0.064575</td>\n",
       "      <td>0.005526</td>\n",
       "      <td>0.027793</td>\n",
       "      <td>-0.071889</td>\n",
       "      <td>0.024937</td>\n",
       "      <td>-0.219860</td>\n",
       "      <td>1.000000</td>\n",
       "      <td>0.001815</td>\n",
       "    </tr>\n",
       "    <tr>\n",
       "      <th>living_area_sqft</th>\n",
       "      <td>0.595678</td>\n",
       "      <td>0.376581</td>\n",
       "      <td>0.576770</td>\n",
       "      <td>0.753186</td>\n",
       "      <td>0.151518</td>\n",
       "      <td>0.318028</td>\n",
       "      <td>-0.086868</td>\n",
       "      <td>0.729372</td>\n",
       "      <td>0.341028</td>\n",
       "      <td>0.001815</td>\n",
       "      <td>1.000000</td>\n",
       "    </tr>\n",
       "  </tbody>\n",
       "</table>\n",
       "</div>"
      ],
      "text/plain": [
       "                     price  bedrooms  bathrooms  sqft_living  sqft_total  \\\n",
       "price             1.000000  0.302715   0.524730     0.701247    0.085870   \n",
       "bedrooms          0.302715  1.000000   0.515724     0.568133    0.030603   \n",
       "bathrooms         0.524730  0.515724   1.000000     0.761640    0.092467   \n",
       "sqft_living       0.701247  0.568133   0.761640     1.000000    0.171361   \n",
       "sqft_total        0.085870  0.030603   0.092467     0.171361    1.000000   \n",
       "floors            0.278690  0.204928   0.505132     0.391976    0.015878   \n",
       "condition         0.047269  0.033419  -0.096782    -0.046014   -0.017107   \n",
       "grade             0.665259  0.354848   0.661418     0.766483    0.117585   \n",
       "built             0.040088  0.159865   0.488162     0.321674    0.076945   \n",
       "renovated         0.135701  0.021052   0.066027     0.064575    0.005526   \n",
       "living_area_sqft  0.595678  0.376581   0.576770     0.753186    0.151518   \n",
       "\n",
       "                    floors  condition     grade     built  renovated  \\\n",
       "price             0.278690   0.047269  0.665259  0.040088   0.135701   \n",
       "bedrooms          0.204928   0.033419  0.354848  0.159865   0.021052   \n",
       "bathrooms         0.505132  -0.096782  0.661418  0.488162   0.066027   \n",
       "sqft_living       0.391976  -0.046014  0.766483  0.321674   0.064575   \n",
       "sqft_total        0.015878  -0.017107  0.117585  0.076945   0.005526   \n",
       "floors            1.000000  -0.227628  0.464452  0.431733   0.027793   \n",
       "condition        -0.227628   1.000000 -0.123643 -0.323934  -0.071889   \n",
       "grade             0.464452  -0.123643  1.000000  0.435028   0.024937   \n",
       "built             0.431733  -0.323934  0.435028  1.000000  -0.219860   \n",
       "renovated         0.027793  -0.071889  0.024937 -0.219860   1.000000   \n",
       "living_area_sqft  0.318028  -0.086868  0.729372  0.341028   0.001815   \n",
       "\n",
       "                  living_area_sqft  \n",
       "price                     0.595678  \n",
       "bedrooms                  0.376581  \n",
       "bathrooms                 0.576770  \n",
       "sqft_living               0.753186  \n",
       "sqft_total                0.151518  \n",
       "floors                    0.318028  \n",
       "condition                -0.086868  \n",
       "grade                     0.729372  \n",
       "built                     0.341028  \n",
       "renovated                 0.001815  \n",
       "living_area_sqft          1.000000  "
      ]
     },
     "execution_count": 55,
     "metadata": {},
     "output_type": "execute_result"
    }
   ],
   "source": [
    "#performing an initial correlation matrix. This test shows that the strongest predictor of price re sqft_living(0.70), grade(0.67) and bathrooms(0.52) while sqft_toal(0.09) \n",
    "#has minimal impact on price. Other notable mentions are bathrooms and sqft_living which have a correlation of 0.76 and grade and sqft_living which have a correlation of 0.77.\n",
    "Housing_Data.corr()"
   ]
  },
  {
   "cell_type": "code",
   "execution_count": 56,
   "id": "7423c18c-e625-4198-814b-1be78205cfdb",
   "metadata": {},
   "outputs": [],
   "source": [
    "# ------------SECTION 3:PRE-PROCESSING--------------------"
   ]
  },
  {
   "cell_type": "code",
   "execution_count": 57,
   "id": "54da5094-80a0-4069-926d-5f6a6ea4f15c",
   "metadata": {
    "scrolled": true
   },
   "outputs": [
    {
     "name": "stdout",
     "output_type": "stream",
     "text": [
      "37\n"
     ]
    }
   ],
   "source": [
    "#Checking for rows with missing values in the dataset have missing values to determine how to handle them.The dataset contained a minimal number of \n",
    "#null entries (37 rows, representing less than 0.2% of total observations). Given their negligible impact on the overall dataset (19,999 rows) and \n",
    "#the preservation of key statistical properties post-removal, they were removed from the dataset and the analysis. \n",
    "num_of_na= Housing_Data.isna().any(axis=1).sum()\n",
    "print(num_of_na)"
   ]
  },
  {
   "cell_type": "code",
   "execution_count": 58,
   "id": "73534d5d-a0cc-4007-932f-6c9fc415079e",
   "metadata": {},
   "outputs": [],
   "source": [
    "#Since there are 37 rows with missing values they can be dropped because they are not material when compared to the number of data points \n",
    "#that are in our dataset.\n",
    "Cleaned_Data=Housing_Data.dropna().copy()"
   ]
  },
  {
   "cell_type": "code",
   "execution_count": 59,
   "id": "7d61599c-a48e-4d4c-aa1a-3e5067d394cf",
   "metadata": {
    "scrolled": true
   },
   "outputs": [
    {
     "name": "stdout",
     "output_type": "stream",
     "text": [
      "Found 8 duplicate rows:\n",
      "          price  bedrooms  bathrooms  sqft_living  sqft_total  floors  \\\n",
      "547    259950.0       2.0       2.00       1070.0       649.0     2.0   \n",
      "4352   259950.0       2.0       2.00       1070.0       649.0     2.0   \n",
      "3950   550000.0       4.0       1.75       2410.0      8447.0     2.0   \n",
      "3951   550000.0       4.0       1.75       2410.0      8447.0     2.0   \n",
      "14982  585000.0       3.0       2.50       2290.0      5089.0     2.0   \n",
      "14983  585000.0       3.0       2.50       2290.0      5089.0     2.0   \n",
      "16380  629950.0       3.0       2.50       1680.0      1683.0     2.0   \n",
      "17242  629950.0       3.0       2.50       1680.0      1683.0     2.0   \n",
      "\n",
      "       condition  grade   built  renovated  living_area_sqft  \n",
      "547          3.0      9  2008.0          0            1070.0  \n",
      "4352         3.0      9  2008.0          0            1070.0  \n",
      "3950         4.0      8  1936.0       1980            2520.0  \n",
      "3951         4.0      8  1936.0       1980            2520.0  \n",
      "14982        3.0      9  2001.0          0            2290.0  \n",
      "14983        3.0      9  2001.0          0            2290.0  \n",
      "16380        3.0      9  2014.0          0            1610.0  \n",
      "17242        3.0      9  2014.0          0            1610.0  \n"
     ]
    }
   ],
   "source": [
    "# Checking for duplicates across all columns\n",
    "duplicates = Cleaned_Data[Cleaned_Data.duplicated(keep=False)]\n",
    "\n",
    "if not duplicates.empty:\n",
    "    print(f\"Found {len(duplicates)} duplicate rows:\")\n",
    "    print(duplicates.sort_values(list(Cleaned_Data.columns)))\n",
    "else:\n",
    "    print(\"No duplicates found in Cleaned_Data\")"
   ]
  },
  {
   "cell_type": "code",
   "execution_count": 60,
   "id": "46d2ccb2-9dff-4956-aef9-3af16b8a19cd",
   "metadata": {},
   "outputs": [
    {
     "name": "stdout",
     "output_type": "stream",
     "text": [
      "Remaining duplicates after dropping: 0\n"
     ]
    }
   ],
   "source": [
    "# After visualling confirming that the data poinst were duplicate the duplicates were dropped but the first occurence was kept.\n",
    "Cleaned_Data = Cleaned_Data.drop_duplicates()\n",
    "\n",
    "# Verify duplicates were removed\n",
    "remaining_dupes = Cleaned_Data[Cleaned_Data.duplicated()]\n",
    "print(f\"Remaining duplicates after dropping: {len(remaining_dupes)}\")"
   ]
  },
  {
   "cell_type": "code",
   "execution_count": 61,
   "id": "2ce852fe-f2c8-4954-bd09-42ae2660e290",
   "metadata": {},
   "outputs": [],
   "source": [
    "## Filling missing values with 0 and converting columns to appropriate data types:\n",
    "# - Integer columns:for discrete variables\n",
    "# - Float columns: for continous variables\n",
    "#Some variables, like the “built” year, were incorrectly stored as floats, implying fractional years. Since fractional values have no practical meaning \n",
    "#for the construction year, they were recategorized to integers.\n",
    "Cleaned_Data['bedrooms'] = Cleaned_Data['bedrooms'].fillna(0).astype(float)\n",
    "Cleaned_Data['floors'] = Cleaned_Data['floors'].fillna(0).astype(float)\n",
    "Cleaned_Data['condition'] = Cleaned_Data['condition'].fillna(0).astype(float)\n",
    "Cleaned_Data['grade'] = Cleaned_Data['grade'].fillna(0).astype(float)\n",
    "Cleaned_Data['built'] = Cleaned_Data['built'].fillna(0).astype(int)\n",
    "Cleaned_Data['renovated'] = Cleaned_Data['renovated'].fillna(0).astype(int)\n",
    "Cleaned_Data['price'] = Cleaned_Data['price'].fillna(0).astype(float)\n",
    "Cleaned_Data['bathrooms'] = Cleaned_Data['bathrooms'].fillna(0).astype(float)\n",
    "Cleaned_Data['sqft_living'] = Cleaned_Data['sqft_living'].fillna(0).astype(float)\n",
    "Cleaned_Data['sqft_total'] = Cleaned_Data['sqft_total'].fillna(0).astype(float)\n",
    "Cleaned_Data['living_area_sqft'] = Cleaned_Data['living_area_sqft'].fillna(0).astype(float)\n"
   ]
  },
  {
   "cell_type": "code",
   "execution_count": 62,
   "id": "90393184-0825-4b92-9752-8077986efbae",
   "metadata": {},
   "outputs": [
    {
     "data": {
      "text/plain": [
       "price               float64\n",
       "bedrooms            float64\n",
       "bathrooms           float64\n",
       "sqft_living         float64\n",
       "sqft_total          float64\n",
       "floors              float64\n",
       "condition           float64\n",
       "grade               float64\n",
       "built                 int64\n",
       "renovated             int64\n",
       "living_area_sqft    float64\n",
       "dtype: object"
      ]
     },
     "execution_count": 62,
     "metadata": {},
     "output_type": "execute_result"
    }
   ],
   "source": [
    "#Chceking the datatypes of the Cleaned Dataset\n",
    "Cleaned_Data.dtypes"
   ]
  },
  {
   "cell_type": "code",
   "execution_count": 63,
   "id": "9ca5a93e-c142-4499-9d9c-09d72594b4f7",
   "metadata": {},
   "outputs": [
    {
     "data": {
      "text/plain": [
       "(19958, 11)"
      ]
     },
     "execution_count": 63,
     "metadata": {},
     "output_type": "execute_result"
    }
   ],
   "source": [
    "#Checking the shape of the new DataFrame. After preprocessing, the cleaned dataset contained 19,962 records—a reduction of only 37 entries (0.19%) \n",
    "#from the original 19,999\n",
    "Cleaned_Data.shape"
   ]
  },
  {
   "cell_type": "code",
   "execution_count": 64,
   "id": "ca03b138-2665-40a1-bea7-d8cbb1ea77e5",
   "metadata": {},
   "outputs": [],
   "source": [
    "# ------------SECTION 4:PERFORM FURTHER STATISTICAL TEST --------------------"
   ]
  },
  {
   "cell_type": "code",
   "execution_count": 65,
   "id": "b99323af-72aa-47b0-96e7-8bad8b3b79ae",
   "metadata": {},
   "outputs": [
    {
     "data": {
      "text/html": [
       "<div>\n",
       "<style scoped>\n",
       "    .dataframe tbody tr th:only-of-type {\n",
       "        vertical-align: middle;\n",
       "    }\n",
       "\n",
       "    .dataframe tbody tr th {\n",
       "        vertical-align: top;\n",
       "    }\n",
       "\n",
       "    .dataframe thead th {\n",
       "        text-align: right;\n",
       "    }\n",
       "</style>\n",
       "<table border=\"1\" class=\"dataframe\">\n",
       "  <thead>\n",
       "    <tr style=\"text-align: right;\">\n",
       "      <th></th>\n",
       "      <th>price</th>\n",
       "      <th>bedrooms</th>\n",
       "      <th>bathrooms</th>\n",
       "      <th>sqft_living</th>\n",
       "      <th>sqft_total</th>\n",
       "      <th>floors</th>\n",
       "      <th>condition</th>\n",
       "      <th>grade</th>\n",
       "      <th>built</th>\n",
       "      <th>renovated</th>\n",
       "      <th>living_area_sqft</th>\n",
       "    </tr>\n",
       "  </thead>\n",
       "  <tbody>\n",
       "    <tr>\n",
       "      <th>count</th>\n",
       "      <td>19958.00</td>\n",
       "      <td>19958.00</td>\n",
       "      <td>19958.00</td>\n",
       "      <td>19958.00</td>\n",
       "      <td>19958.00</td>\n",
       "      <td>19958.00</td>\n",
       "      <td>19958.00</td>\n",
       "      <td>19958.00</td>\n",
       "      <td>19958.00</td>\n",
       "      <td>19958.00</td>\n",
       "      <td>19958.00</td>\n",
       "    </tr>\n",
       "    <tr>\n",
       "      <th>mean</th>\n",
       "      <td>535535.61</td>\n",
       "      <td>3.37</td>\n",
       "      <td>2.07</td>\n",
       "      <td>2058.41</td>\n",
       "      <td>15604.77</td>\n",
       "      <td>1.44</td>\n",
       "      <td>3.44</td>\n",
       "      <td>7.61</td>\n",
       "      <td>1967.93</td>\n",
       "      <td>90.80</td>\n",
       "      <td>1974.34</td>\n",
       "    </tr>\n",
       "    <tr>\n",
       "      <th>std</th>\n",
       "      <td>366057.63</td>\n",
       "      <td>0.93</td>\n",
       "      <td>0.76</td>\n",
       "      <td>905.48</td>\n",
       "      <td>41787.44</td>\n",
       "      <td>0.52</td>\n",
       "      <td>0.67</td>\n",
       "      <td>1.17</td>\n",
       "      <td>28.31</td>\n",
       "      <td>415.92</td>\n",
       "      <td>675.09</td>\n",
       "    </tr>\n",
       "    <tr>\n",
       "      <th>min</th>\n",
       "      <td>78000.00</td>\n",
       "      <td>1.00</td>\n",
       "      <td>0.50</td>\n",
       "      <td>370.00</td>\n",
       "      <td>520.00</td>\n",
       "      <td>1.00</td>\n",
       "      <td>1.00</td>\n",
       "      <td>3.00</td>\n",
       "      <td>1900.00</td>\n",
       "      <td>0.00</td>\n",
       "      <td>399.00</td>\n",
       "    </tr>\n",
       "    <tr>\n",
       "      <th>25%</th>\n",
       "      <td>317500.00</td>\n",
       "      <td>3.00</td>\n",
       "      <td>1.50</td>\n",
       "      <td>1420.00</td>\n",
       "      <td>5350.00</td>\n",
       "      <td>1.00</td>\n",
       "      <td>3.00</td>\n",
       "      <td>7.00</td>\n",
       "      <td>1950.00</td>\n",
       "      <td>0.00</td>\n",
       "      <td>1490.00</td>\n",
       "    </tr>\n",
       "    <tr>\n",
       "      <th>50%</th>\n",
       "      <td>449950.00</td>\n",
       "      <td>3.00</td>\n",
       "      <td>2.00</td>\n",
       "      <td>1900.00</td>\n",
       "      <td>7817.50</td>\n",
       "      <td>1.00</td>\n",
       "      <td>3.00</td>\n",
       "      <td>7.00</td>\n",
       "      <td>1969.00</td>\n",
       "      <td>0.00</td>\n",
       "      <td>1830.00</td>\n",
       "    </tr>\n",
       "    <tr>\n",
       "      <th>75%</th>\n",
       "      <td>640000.00</td>\n",
       "      <td>4.00</td>\n",
       "      <td>2.50</td>\n",
       "      <td>2510.00</td>\n",
       "      <td>11000.00</td>\n",
       "      <td>2.00</td>\n",
       "      <td>4.00</td>\n",
       "      <td>8.00</td>\n",
       "      <td>1991.00</td>\n",
       "      <td>0.00</td>\n",
       "      <td>2330.00</td>\n",
       "    </tr>\n",
       "    <tr>\n",
       "      <th>max</th>\n",
       "      <td>7700000.00</td>\n",
       "      <td>33.00</td>\n",
       "      <td>8.00</td>\n",
       "      <td>13540.00</td>\n",
       "      <td>1651359.00</td>\n",
       "      <td>3.50</td>\n",
       "      <td>5.00</td>\n",
       "      <td>13.00</td>\n",
       "      <td>2015.00</td>\n",
       "      <td>2015.00</td>\n",
       "      <td>6210.00</td>\n",
       "    </tr>\n",
       "  </tbody>\n",
       "</table>\n",
       "</div>"
      ],
      "text/plain": [
       "            price  bedrooms  bathrooms  sqft_living  sqft_total    floors  \\\n",
       "count    19958.00  19958.00   19958.00     19958.00    19958.00  19958.00   \n",
       "mean    535535.61      3.37       2.07      2058.41    15604.77      1.44   \n",
       "std     366057.63      0.93       0.76       905.48    41787.44      0.52   \n",
       "min      78000.00      1.00       0.50       370.00      520.00      1.00   \n",
       "25%     317500.00      3.00       1.50      1420.00     5350.00      1.00   \n",
       "50%     449950.00      3.00       2.00      1900.00     7817.50      1.00   \n",
       "75%     640000.00      4.00       2.50      2510.00    11000.00      2.00   \n",
       "max    7700000.00     33.00       8.00     13540.00  1651359.00      3.50   \n",
       "\n",
       "       condition     grade     built  renovated  living_area_sqft  \n",
       "count   19958.00  19958.00  19958.00   19958.00          19958.00  \n",
       "mean        3.44      7.61   1967.93      90.80           1974.34  \n",
       "std         0.67      1.17     28.31     415.92            675.09  \n",
       "min         1.00      3.00   1900.00       0.00            399.00  \n",
       "25%         3.00      7.00   1950.00       0.00           1490.00  \n",
       "50%         3.00      7.00   1969.00       0.00           1830.00  \n",
       "75%         4.00      8.00   1991.00       0.00           2330.00  \n",
       "max         5.00     13.00   2015.00    2015.00           6210.00  "
      ]
     },
     "execution_count": 65,
     "metadata": {},
     "output_type": "execute_result"
    }
   ],
   "source": [
    "#Doing a statistical test on the cleaned data \n",
    "Cleaned_Data.describe().round(2)"
   ]
  },
  {
   "cell_type": "code",
   "execution_count": 66,
   "id": "3ced8832-5cc3-4fc8-b713-9174cbb07317",
   "metadata": {},
   "outputs": [
    {
     "data": {
      "text/plain": [
       "<Axes: >"
      ]
     },
     "execution_count": 66,
     "metadata": {},
     "output_type": "execute_result"
    },
    {
     "data": {
      "image/png": "[encoded data removed]",
      "text/plain": [
       "<Figure size 1200x800 with 2 Axes>"
      ]
     },
     "metadata": {},
     "output_type": "display_data"
    }
   ],
   "source": [
    "#Heat map showing the relationship between the different variables, after the data has been cleaned.\n",
    "plt.figure(figsize=(12,8))\n",
    "sns.heatmap(Cleaned_Data.corr(),annot=True, center=0)"
   ]
  },
  {
   "cell_type": "code",
   "execution_count": 67,
   "id": "447b81b0-6c6d-46f5-8c21-84fa16a6047a",
   "metadata": {},
   "outputs": [],
   "source": [
    "# ---------- SECTION 5: VISUALIZE DATA TO PREDICT TRENDS ----------"
   ]
  },
  {
   "cell_type": "code",
   "execution_count": 68,
   "id": "af9aaa41-d536-49f5-a860-01992fde0660",
   "metadata": {},
   "outputs": [],
   "source": [
    "#PRICE VS BEDROOMS"
   ]
  },
  {
   "cell_type": "code",
   "execution_count": 69,
   "id": "f0772b13-5499-4c2d-85b1-9ed7c4827229",
   "metadata": {},
   "outputs": [],
   "source": [
    "#predicting price using the number of bedrooms to get an idea of the relationship between the two variables."
   ]
  },
  {
   "cell_type": "code",
   "execution_count": 70,
   "id": "8b4cda3e-4ca1-4f0f-a7ff-a0532d4440e3",
   "metadata": {},
   "outputs": [
    {
     "name": "stdout",
     "output_type": "stream",
     "text": [
      "Bedroom Model:\n",
      "Price = 119124.06 × bedrooms + 134442.44\n",
      "\n",
      "R-squared: 0.0916\n"
     ]
    },
    {
     "data": {
      "image/png": "[encoded data removed]",
      "text/plain": [
       "<Figure size 800x600 with 1 Axes>"
      ]
     },
     "metadata": {},
     "output_type": "display_data"
    }
   ],
   "source": [
    "#Creating the model to predict price using number of bedrooms with linear regression.The model indicated that the equation for \n",
    "#the relationship between the two variables is: price=119,125.83×bedrooms+134439.357 which means, for each additional bedroom, the Price increases \n",
    "#by €119,125.83, on average.\n",
    "\n",
    "model_bedroom = LinearRegression()\n",
    "model_bedroom.fit(Cleaned_Data[['bedrooms']], Cleaned_Data['price'])\n",
    "bedroom_pred = model_bedroom.predict(Cleaned_Data[['bedrooms']])\n",
    "\n",
    "#Calcualting the R2. In this case, the model reveals that 9.16% of price can be explained by the number of bedrooms. Which means that there are other variables that\n",
    "#would be better predictors of price than the number of bedrooms.\n",
    "r2 = r2_score(Cleaned_Data['price'], bedroom_pred)\n",
    "\n",
    "#Printing the equation for the model\n",
    "print(\"Bedroom Model:\") #For each additional bedroom, the Price increases by $119,125.83, on average\n",
    "print(f\"Price = {model_bedroom.coef_[0]:.2f} × bedrooms + {model_bedroom.intercept_:.2f}\\n\")\n",
    "print(f\"R-squared: {r2:.4f}\")\n",
    "\n",
    "#Plotting the model\n",
    "fig, ax = plt.subplots(figsize=(8, 6))\n",
    "\n",
    "#formatting price as a currency\n",
    "ax.yaxis.set_major_formatter(ticker.FuncFormatter(lambda x, pos: '€{:,.0f}'.format(x)))\n",
    "\n",
    "ax.scatter(Cleaned_Data['bedrooms'], Cleaned_Data['price'], alpha=0.5, label='Actual')\n",
    "ax.plot(Cleaned_Data['bedrooms'], bedroom_pred, 'r-', label='Predicted')\n",
    "\n",
    "# adding Labels and title to the chart\n",
    "ax.set_xlabel('bedrooms')\n",
    "ax.set_ylabel('Price')\n",
    "ax.set_title('Price Prediction by Number of Bedrooms')\n",
    "ax.legend()\n",
    "\n",
    "plt.tight_layout()\n",
    "plt.show()\n"
   ]
  },
  {
   "cell_type": "code",
   "execution_count": 71,
   "id": "0ef70098-3799-4b8b-9a85-65284fb0b250",
   "metadata": {},
   "outputs": [],
   "source": [
    "#The number of bedrooms is might not be the best predictor of price because it has a correlation of 0.3. Grade and sqft_living might be better predictors of price because these variables \n",
    "#have the highest correlation of 0.67 and 0.7 respectively.Linear regression will be used to predict how price relates to these variables. "
   ]
  },
  {
   "cell_type": "code",
   "execution_count": 72,
   "id": "f8e576bc-af53-4a02-abff-18807c53e73b",
   "metadata": {},
   "outputs": [],
   "source": [
    "#PRICE VS GRADE"
   ]
  },
  {
   "cell_type": "code",
   "execution_count": 74,
   "id": "b0cadf12-4dc6-4416-aa75-c82936e1a988",
   "metadata": {},
   "outputs": [
    {
     "name": "stdout",
     "output_type": "stream",
     "text": [
      "Grade Model:\n",
      "Price = 208332.97 × grade + -1049101.88\n",
      "\n",
      "R-squared: 0.4434\n"
     ]
    },
    {
     "data": {
      "text/plain": [
       "<matplotlib.legend.Legend at 0x1fa42291c70>"
      ]
     },
     "execution_count": 74,
     "metadata": {},
     "output_type": "execute_result"
    },
    {
     "data": {
      "image/png": "[encoded data removed]",
      "text/plain": [
       "<Figure size 640x480 with 1 Axes>"
      ]
     },
     "metadata": {},
     "output_type": "display_data"
    }
   ],
   "source": [
    "#Creating the model to predict price using grade with linear regression\n",
    "model_grade = LinearRegression()\n",
    "model_grade.fit(Cleaned_Data[['grade']], Cleaned_Data['price'])\n",
    "grade_pred = model_grade.predict(Cleaned_Data[['grade']])\n",
    "\n",
    "#Calculating the R squared which looks at the proportion of price that can be explained by grade.In this case,44% of the price can be explained by the grade of a property.\n",
    "r2 = r2_score(Cleaned_Data['price'], grade_pred)\n",
    "\n",
    "# Printing equation for the grade model\n",
    "print(\"Grade Model:\") #For every 1 unit that grade increases, price increases by $208,280.87\n",
    "print(f\"Price = {model_grade.coef_[0]:.2f} × grade + {model_grade.intercept_:.2f}\\n\")\n",
    "print(f\"R-squared: {r2:.4f}\")\n",
    "\n",
    "# Plotting the grade model\n",
    "plt.subplot(1, 2, 1)\n",
    "plt.scatter(Cleaned_Data['grade'], Cleaned_Data['price'], alpha=0.5, label='Actual')\n",
    "plt.plot(Cleaned_Data['grade'], grade_pred, 'r-', label='Predicted')\n",
    "plt.xlabel('Grade')\n",
    "plt.ylabel('Price')\n",
    "plt.title('Price Prediction by Grade')\n",
    "plt.legend() "
   ]
  },
  {
   "cell_type": "code",
   "execution_count": null,
   "id": "20398ecc-5edd-4a93-a675-42a0df53b557",
   "metadata": {},
   "outputs": [],
   "source": [
    "#PRICE VS SQFT_LIVING"
   ]
  },
  {
   "cell_type": "code",
   "execution_count": null,
   "id": "6b2b83bf-8d07-43ab-81b0-574d72d7db81",
   "metadata": {},
   "outputs": [],
   "source": [
    "#Creating a model to predict price using sqft_living using linear regression\n",
    "model_sqft = LinearRegression()\n",
    "model_sqft.fit(Cleaned_Data[['sqft_living']], Cleaned_Data['price'])\n",
    "sqft_pred = model_sqft.predict(Cleaned_Data[['sqft_living']])\n",
    "\n",
    "#calculating the R2 which shows that 49% of the price can be explained by sqft_living\n",
    "r2 = r2_score(Cleaned_Data['price'], sqft_pred)\n",
    "\n",
    "# Printing equation for the grade model\n",
    "print(\"Square Footage Model:\")#For every additional square foot of living space, the Price increases by $283.42, on average.\n",
    "print(f\"Price = {model_sqft.coef_[0]:.2f} × sqft_living + {model_sqft.intercept_:.2f}\")\n",
    "print(f\"R-squared: {r2:.4f}\")\n",
    "\n",
    "# Plot for the sqft_living room vs price model\n",
    "plt.subplot(1, 2, 2)\n",
    "plt.scatter(Cleaned_Data['sqft_living'], Cleaned_Data['price'], alpha=0.5, label='Actual')\n",
    "plt.plot(Cleaned_Data['sqft_living'], sqft_pred, 'r-', label='Predicted')\n",
    "plt.xlabel('Living Area (sqft)')\n",
    "plt.ylabel('Price')\n",
    "plt.title('Price Prediction by Square Footage')\n",
    "plt.legend()"
   ]
  },
  {
   "cell_type": "code",
   "execution_count": null,
   "id": "7c2a18cb-014f-4c5f-903b-856437743ee3",
   "metadata": {},
   "outputs": [],
   "source": [
    "#FLOORS VS SQFT_TOTAL"
   ]
  },
  {
   "cell_type": "code",
   "execution_count": null,
   "id": "9ec4ed53-1f5b-4dbd-9156-6a2d19fa5bf7",
   "metadata": {},
   "outputs": [],
   "source": [
    "#calculating the correlation between floors and sqft_total\n",
    "correlation = Cleaned_Data['floors'].corr(Cleaned_Data['sqft_total'])\n",
    "print(f\"Pearson Correlation (r): {correlation:.2f}\")\n",
    "# Preparing the data to create the model\n",
    "X = Cleaned_Data[['floors']]  # Feature\n",
    "y = Cleaned_Data['sqft_total']  # Target\n",
    "\n",
    "# Fit regression\n",
    "model = LinearRegression()\n",
    "model.fit(X, y)\n",
    "y_pred = model.predict(X)\n",
    "\n",
    "# Plotting the model. There is a correlation of 0.02 which is close to zero which indicates that no linear relationship exists between the two variables.\n",
    "#The scatter shows that square footage does not increase with the number of floors. It can be observed that 1 floor homes have a range of square footage and 3-floor homes are \n",
    "#potentially smaller per-square footage.\n",
    "plt.figure(figsize=(8, 5))\n",
    "plt.scatter(X, y, alpha=0.6, color='blue', label='Data Points')\n",
    "plt.plot(X, y_pred, color='red', linewidth=2, label='Regression Line')\n",
    "plt.title(f\"Floors vs. Total Sqft (r = {correlation:.2f})\", fontsize=14)\n",
    "plt.xlabel(\"Number of Floors\", fontsize=12)\n",
    "plt.ylabel(\"Total Square Footage\", fontsize=12)\n",
    "plt.legend()\n",
    "plt.grid(True)\n",
    "plt.show()"
   ]
  },
  {
   "cell_type": "code",
   "execution_count": null,
   "id": "e9c55a57-302f-45cc-ae6e-6ba66fb50a98",
   "metadata": {},
   "outputs": [],
   "source": []
  },
  {
   "cell_type": "code",
   "execution_count": null,
   "id": "020e840e-eda9-4e9e-be8c-cde4c9025707",
   "metadata": {},
   "outputs": [],
   "source": []
  },
  {
   "cell_type": "code",
   "execution_count": null,
   "id": "39b9028b-d43d-4ed6-8bc8-75522957ce6c",
   "metadata": {},
   "outputs": [],
   "source": []
  },
  {
   "cell_type": "code",
   "execution_count": null,
   "id": "df0d54fb-c77c-42ad-9c49-1854c074a19c",
   "metadata": {},
   "outputs": [],
   "source": []
  },
  {
   "cell_type": "code",
   "execution_count": null,
   "id": "1ea8b034-4d1a-4701-906b-a0b4ea6b4263",
   "metadata": {},
   "outputs": [],
   "source": []
  },
  {
   "cell_type": "code",
   "execution_count": null,
   "id": "1939068d-4839-474f-a914-10efb7bccd9d",
   "metadata": {},
   "outputs": [],
   "source": []
  },
  {
   "cell_type": "code",
   "execution_count": null,
   "id": "95835fae-4438-4d94-9683-6d422f713afb",
   "metadata": {},
   "outputs": [],
   "source": []
  },
  {
   "cell_type": "code",
   "execution_count": null,
   "id": "ac23ca85-9435-4e1b-a298-85891bae5263",
   "metadata": {},
   "outputs": [],
   "source": []
  },
  {
   "cell_type": "code",
   "execution_count": null,
   "id": "5822bcf3-e2c8-4140-89b8-9e1e334eb891",
   "metadata": {},
   "outputs": [],
   "source": []
  },
  {
   "cell_type": "code",
   "execution_count": null,
   "id": "73162ca8-03ff-4373-83f3-0336a1791cc4",
   "metadata": {},
   "outputs": [],
   "source": []
  },
  {
   "cell_type": "code",
   "execution_count": null,
   "id": "3a7aed80-2739-4662-8f44-2dc9da7ab980",
   "metadata": {},
   "outputs": [],
   "source": []
  },
  {
   "cell_type": "code",
   "execution_count": null,
   "id": "aa0f1202-d85c-46d3-8248-83b1a902a46d",
   "metadata": {},
   "outputs": [],
   "source": []
  },
  {
   "cell_type": "code",
   "execution_count": null,
   "id": "dc427d5c-f4f7-405b-9e4b-d720ffa2b026",
   "metadata": {},
   "outputs": [],
   "source": []
  },
  {
   "cell_type": "code",
   "execution_count": null,
   "id": "8db889fc-a689-4b91-b100-f2d986dda9b6",
   "metadata": {},
   "outputs": [],
   "source": []
  },
  {
   "cell_type": "code",
   "execution_count": null,
   "id": "f6e95b5d-24b3-4d4c-a667-080da1a431d3",
   "metadata": {},
   "outputs": [],
   "source": []
  },
  {
   "cell_type": "code",
   "execution_count": null,
   "id": "e76afd5a-9bcf-42a0-b43f-a4dc942c5e18",
   "metadata": {},
   "outputs": [],
   "source": []
  },
  {
   "cell_type": "code",
   "execution_count": null,
   "id": "118f900f-8a66-4215-a303-85c406918573",
   "metadata": {},
   "outputs": [],
   "source": []
  },
  {
   "cell_type": "code",
   "execution_count": null,
   "id": "7476c393-847e-4219-93cc-f8a08064d9ca",
   "metadata": {},
   "outputs": [],
   "source": []
  },
  {
   "cell_type": "code",
   "execution_count": null,
   "id": "dd8fd0b3-6ec8-4f96-a7c9-df82aa9131ef",
   "metadata": {},
   "outputs": [],
   "source": []
  },
  {
   "cell_type": "code",
   "execution_count": null,
   "id": "fe1753f9-a69e-4dec-a7f3-8c567803db74",
   "metadata": {},
   "outputs": [],
   "source": []
  },
  {
   "cell_type": "code",
   "execution_count": null,
   "id": "9ad23954-1ad4-4833-9a54-bf6ab9ae1d96",
   "metadata": {},
   "outputs": [],
   "source": []
  },
  {
   "cell_type": "code",
   "execution_count": null,
   "id": "b5df3ee1-b049-45d7-99b3-98b0bf56c57b",
   "metadata": {},
   "outputs": [],
   "source": []
  },
  {
   "cell_type": "code",
   "execution_count": null,
   "id": "97743095-ddea-4600-846d-156437063684",
   "metadata": {},
   "outputs": [],
   "source": []
  },
  {
   "cell_type": "code",
   "execution_count": null,
   "id": "a8feaa68-884d-4bcb-9960-4f01db15abba",
   "metadata": {},
   "outputs": [],
   "source": []
  },
  {
   "cell_type": "code",
   "execution_count": null,
   "id": "d1bb6699-9bf2-4012-a9b0-59787fd12814",
   "metadata": {},
   "outputs": [],
   "source": []
  },
  {
   "cell_type": "code",
   "execution_count": null,
   "id": "dfd566ee-c982-4c95-be7d-5fc0cac2aa77",
   "metadata": {},
   "outputs": [],
   "source": []
  },
  {
   "cell_type": "code",
   "execution_count": null,
   "id": "1b374f3b-aed9-474b-9399-96ff3256c312",
   "metadata": {},
   "outputs": [],
   "source": []
  },
  {
   "cell_type": "code",
   "execution_count": null,
   "id": "b5e8f524-8a22-47a9-b7e6-1c7022eb2b46",
   "metadata": {},
   "outputs": [],
   "source": []
  },
  {
   "cell_type": "code",
   "execution_count": null,
   "id": "2d8824f6-f270-4aa4-ad72-68b31a7876b8",
   "metadata": {},
   "outputs": [],
   "source": []
  },
  {
   "cell_type": "code",
   "execution_count": null,
   "id": "e33fe2a6-3019-4de8-b3f1-a4d80fe6fe21",
   "metadata": {},
   "outputs": [],
   "source": []
  },
  {
   "cell_type": "code",
   "execution_count": null,
   "id": "4aabfa96-02e0-4011-8a8f-298c83a14a4c",
   "metadata": {},
   "outputs": [],
   "source": []
  },
  {
   "cell_type": "code",
   "execution_count": null,
   "id": "09e1a369-1db5-47c2-b88c-00da9427e4c0",
   "metadata": {},
   "outputs": [],
   "source": []
  },
  {
   "cell_type": "code",
   "execution_count": null,
   "id": "90066c23-0623-4f83-b99f-6abbdbb61e49",
   "metadata": {},
   "outputs": [],
   "source": []
  },
  {
   "cell_type": "code",
   "execution_count": null,
   "id": "c261e8ea-7a2c-4c94-ad19-96a4ed9084ec",
   "metadata": {},
   "outputs": [],
   "source": []
  },
  {
   "cell_type": "code",
   "execution_count": null,
   "id": "2eaa7e46-8af0-4b1b-807e-e6c7cdb0d0d7",
   "metadata": {},
   "outputs": [],
   "source": []
  },
  {
   "cell_type": "code",
   "execution_count": null,
   "id": "7b3320b2-dd94-49da-81e7-0b42d2a89a34",
   "metadata": {},
   "outputs": [],
   "source": []
  },
  {
   "cell_type": "code",
   "execution_count": null,
   "id": "ccb5969f-e0c3-49bb-a806-b0b7f016b52d",
   "metadata": {},
   "outputs": [],
   "source": []
  },
  {
   "cell_type": "code",
   "execution_count": null,
   "id": "85115382-ea88-4f29-8544-0fcc20115691",
   "metadata": {},
   "outputs": [],
   "source": []
  },
  {
   "cell_type": "code",
   "execution_count": null,
   "id": "ea09d523-9383-42ab-b25f-3f8ed7fc29ee",
   "metadata": {},
   "outputs": [],
   "source": []
  },
  {
   "cell_type": "code",
   "execution_count": null,
   "id": "6998ffff-c3e4-4243-8a77-fc22753eac7d",
   "metadata": {},
   "outputs": [],
   "source": []
  },
  {
   "cell_type": "code",
   "execution_count": null,
   "id": "781b4bfe-62b5-4b1b-854e-d252561afd4a",
   "metadata": {},
   "outputs": [],
   "source": []
  },
  {
   "cell_type": "code",
   "execution_count": null,
   "id": "7628476e-a64e-4904-9caf-8ebdfe3325d0",
   "metadata": {},
   "outputs": [],
   "source": []
  },
  {
   "cell_type": "code",
   "execution_count": null,
   "id": "19570c55-ece8-4392-8994-1c6b419f7d05",
   "metadata": {},
   "outputs": [],
   "source": []
  }
 ],
 "metadata": {
  "kernelspec": {
   "display_name": "Python 3 (ipykernel)",
   "language": "python",
   "name": "python3"
  },
  "language_info": {
   "codemirror_mode": {
    "name": "ipython",
    "version": 3
   },
   "file_extension": ".py",
   "mimetype": "text/x-python",
   "name": "python",
   "nbconvert_exporter": "python",
   "pygments_lexer": "ipython3",
   "version": "3.12.9"
  }
 },
 "nbformat": 4,
 "nbformat_minor": 5
}
